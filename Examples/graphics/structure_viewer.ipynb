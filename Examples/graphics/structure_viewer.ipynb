{
 "cells": [
  {
   "cell_type": "markdown",
   "metadata": {},
   "source": [
    "\n",
    "# Simple Inline Crystal Visualization\n"
   ]
  },
  {
   "cell_type": "code",
   "execution_count": null,
   "metadata": {
    "is_executing": true
   },
   "outputs": [],
   "source": [
    "from easyCrystallography.Components.Lattice import Lattice, PeriodicLattice\n",
    "from easyCrystallography.Components.Site import PeriodicAtoms, Site\n",
    "from easyCrystallography.Components.SpaceGroup import SpaceGroup\n",
    "\n",
    "from crysvue import Canvas\n",
    "from easyCrystallography.graphics.crysvue import UnitCell, Atoms, ABCAxis\n",
    "\n",
    "\n",
    "lattice = Lattice(4, 4, 8, 90, 90, 120)\n",
    "space_group = SpaceGroup.from_int_number(194)\n",
    "site1 = Site('H', 'H', 1, 0., 0., 0.)\n",
    "site2 = Site('Fe', 'Fe', 1, 0.4, 0.25, 0.4)\n",
    "\n",
    "atoms = PeriodicAtoms('test', site1, site2,\n",
    "                      lattice=PeriodicLattice.from_lattice_and_spacegroup(lattice, space_group))\n",
    "\n",
    "\n",
    "canvas = Canvas(display='jupyter')\n",
    "\n",
    "extent = (1, 1, 1)\n",
    "cell_visual = UnitCell(lattice, extent=extent)\n",
    "atom_visual = Atoms(atoms, extent=extent)\n",
    "\n",
    "axis_visual = ABCAxis(lattice)\n",
    "\n",
    "canvas.add_element(cell_visual)\n",
    "canvas.add_element(atom_visual)\n",
    "canvas.add_element(axis_visual)"
   ]
  },
  {
   "cell_type": "code",
   "execution_count": 8,
   "metadata": {},
   "outputs": [],
   "source": [
    "canvas.run()"
   ]
  }
 ],
 "metadata": {
  "kernelspec": {
   "display_name": "Python 3 (ipykernel)",
   "language": "python",
   "name": "python3"
  },
  "language_info": {
   "codemirror_mode": {
    "name": "ipython",
    "version": 3
   },
   "file_extension": ".py",
   "mimetype": "text/x-python",
   "name": "python",
   "nbconvert_exporter": "python",
   "pygments_lexer": "ipython3",
   "version": "3.10.8"
  }
 },
 "nbformat": 4,
 "nbformat_minor": 1
}
